{
 "cells": [
  {
   "cell_type": "markdown",
   "id": "200a8a40",
   "metadata": {},
   "source": [
    "# Data Science Tools and Ecosystem"
   ]
  },
  {
   "cell_type": "markdown",
   "id": "662166f8",
   "metadata": {},
   "source": [
    "## Author"
   ]
  },
  {
   "cell_type": "markdown",
   "id": "b5655f93",
   "metadata": {},
   "source": [
    "Rifatul"
   ]
  },
  {
   "cell_type": "markdown",
   "id": "ae326427",
   "metadata": {},
   "source": [
    "In this notebook, Data Science Tools and Ecosystem are summarized."
   ]
  },
  {
   "cell_type": "markdown",
   "id": "e717e5ee",
   "metadata": {},
   "source": [
    "Some of the popular languages that Data Scientists use are: <p>\n",
    "1. Python<p>\n",
    "2. R<p>\n",
    "3. Scala"
   ]
  },
  {
   "cell_type": "markdown",
   "id": "b4a0e1c7",
   "metadata": {},
   "source": [
    "**Objectives:**<p>\n",
    "- creating ordered list\n",
    "- learning to create table\n",
    "- Commenting"
   ]
  },
  {
   "cell_type": "markdown",
   "id": "7ed8bfcf",
   "metadata": {},
   "source": [
    "Some of the commonly used libraries used by Data Scientists include:<p>\n",
    "1. Pandas <p>\n",
    "2. Matplotlib <p>\n",
    "3. Scipy"
   ]
  },
  {
   "cell_type": "markdown",
   "id": "53f223ab",
   "metadata": {},
   "source": [
    "Data Science Tools|\n",
    "----\n",
    "Jupyter Notebook|\n",
    "VSCode|\n",
    "Rstudio|"
   ]
  },
  {
   "cell_type": "markdown",
   "id": "cc6fb359",
   "metadata": {},
   "source": [
    "### Below are a few examples of evaluating arithmetic expressions in Python."
   ]
  },
  {
   "cell_type": "code",
   "execution_count": 4,
   "id": "577ecddf",
   "metadata": {},
   "outputs": [
    {
     "data": {
      "text/plain": [
       "17"
      ]
     },
     "execution_count": 4,
     "metadata": {},
     "output_type": "execute_result"
    }
   ],
   "source": [
    "#This a simple arithmetic expression to mutiply then add integers\n",
    "(3*4)+5"
   ]
  },
  {
   "cell_type": "code",
   "execution_count": 5,
   "id": "574ae590",
   "metadata": {},
   "outputs": [
    {
     "data": {
      "text/plain": [
       "3.3333333333333335"
      ]
     },
     "execution_count": 5,
     "metadata": {},
     "output_type": "execute_result"
    }
   ],
   "source": [
    "#This will convert 200 minutes to hours by diving by 60\n",
    "200/60"
   ]
  },
  {
   "cell_type": "code",
   "execution_count": null,
   "id": "c93b58cf",
   "metadata": {},
   "outputs": [],
   "source": []
  }
 ],
 "metadata": {
  "kernelspec": {
   "display_name": "Python 3 (ipykernel)",
   "language": "python",
   "name": "python3"
  },
  "language_info": {
   "codemirror_mode": {
    "name": "ipython",
    "version": 3
   },
   "file_extension": ".py",
   "mimetype": "text/x-python",
   "name": "python",
   "nbconvert_exporter": "python",
   "pygments_lexer": "ipython3",
   "version": "3.11.4"
  }
 },
 "nbformat": 4,
 "nbformat_minor": 5
}
